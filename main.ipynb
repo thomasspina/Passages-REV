{
 "cells": [
  {
   "cell_type": "code",
   "execution_count": 9,
   "metadata": {},
   "outputs": [],
   "source": [
    "using CSV\n",
    "using DataFrames\n",
    "using Statistics"
   ]
  },
  {
   "cell_type": "code",
   "execution_count": 10,
   "metadata": {},
   "outputs": [
    {
     "data": {
      "text/html": [
       "<div><div style = \"float: left;\"><span>5×10 DataFrame</span></div><div style = \"clear: both;\"></div></div><div class = \"data-frame\" style = \"overflow-x: scroll;\"><table class = \"data-frame\" style = \"margin-bottom: 6px;\"><thead><tr class = \"header\"><th class = \"rowNumber\" style = \"font-weight: bold; text-align: right;\">Row</th><th style = \"text-align: left;\">Date</th><th style = \"text-align: left;\">MaxTemp</th><th style = \"text-align: left;\">MinTemp</th><th style = \"text-align: left;\">MeanTemp</th><th style = \"text-align: left;\">TotalRain</th><th style = \"text-align: left;\">TotalSnow</th><th style = \"text-align: left;\">TotalPrecip</th><th style = \"text-align: left;\">SnowGrnd</th><th style = \"text-align: left;\">SpdGust</th><th style = \"text-align: left;\">REV</th></tr><tr class = \"subheader headerLastRow\"><th class = \"rowNumber\" style = \"font-weight: bold; text-align: right;\"></th><th title = \"Dates.Date\" style = \"text-align: left;\">Date</th><th title = \"Union{Missing, Float64}\" style = \"text-align: left;\">Float64?</th><th title = \"Union{Missing, Float64}\" style = \"text-align: left;\">Float64?</th><th title = \"Union{Missing, Float64}\" style = \"text-align: left;\">Float64?</th><th title = \"Float64\" style = \"text-align: left;\">Float64</th><th title = \"Float64\" style = \"text-align: left;\">Float64</th><th title = \"Float64\" style = \"text-align: left;\">Float64</th><th title = \"Union{Missing, Int64}\" style = \"text-align: left;\">Int64?</th><th title = \"Union{Missing, Int64}\" style = \"text-align: left;\">Int64?</th><th title = \"Int64\" style = \"text-align: left;\">Int64</th></tr></thead><tbody><tr><td class = \"rowNumber\" style = \"font-weight: bold; text-align: right;\">1</td><td style = \"text-align: left;\">2021-10-23</td><td style = \"text-align: right;\">8.2</td><td style = \"text-align: right;\">1.6</td><td style = \"text-align: right;\">4.9</td><td style = \"text-align: right;\">0.0</td><td style = \"text-align: right;\">0.0</td><td style = \"text-align: right;\">0.0</td><td style = \"font-style: italic; text-align: right;\">missing</td><td style = \"font-style: italic; text-align: right;\">missing</td><td style = \"text-align: right;\">168</td></tr><tr><td class = \"rowNumber\" style = \"font-weight: bold; text-align: right;\">2</td><td style = \"text-align: left;\">2021-10-24</td><td style = \"text-align: right;\">11.9</td><td style = \"text-align: right;\">2.5</td><td style = \"text-align: right;\">7.2</td><td style = \"text-align: right;\">0.0</td><td style = \"text-align: right;\">0.0</td><td style = \"text-align: right;\">0.0</td><td style = \"font-style: italic; text-align: right;\">missing</td><td style = \"font-style: italic; text-align: right;\">missing</td><td style = \"text-align: right;\">694</td></tr><tr><td class = \"rowNumber\" style = \"font-weight: bold; text-align: right;\">3</td><td style = \"text-align: left;\">2021-10-25</td><td style = \"text-align: right;\">7.8</td><td style = \"text-align: right;\">3.0</td><td style = \"text-align: right;\">5.4</td><td style = \"text-align: right;\">1.2</td><td style = \"text-align: right;\">0.0</td><td style = \"text-align: right;\">1.2</td><td style = \"font-style: italic; text-align: right;\">missing</td><td style = \"text-align: right;\">43</td><td style = \"text-align: right;\">746</td></tr><tr><td class = \"rowNumber\" style = \"font-weight: bold; text-align: right;\">4</td><td style = \"text-align: left;\">2021-10-26</td><td style = \"text-align: right;\">11.3</td><td style = \"text-align: right;\">7.2</td><td style = \"text-align: right;\">9.3</td><td style = \"text-align: right;\">7.2</td><td style = \"text-align: right;\">0.0</td><td style = \"text-align: right;\">7.2</td><td style = \"font-style: italic; text-align: right;\">missing</td><td style = \"text-align: right;\">53</td><td style = \"text-align: right;\">646</td></tr><tr><td class = \"rowNumber\" style = \"font-weight: bold; text-align: right;\">5</td><td style = \"text-align: left;\">2021-10-27</td><td style = \"text-align: right;\">12.6</td><td style = \"text-align: right;\">6.1</td><td style = \"text-align: right;\">9.4</td><td style = \"text-align: right;\">0.0</td><td style = \"text-align: right;\">0.0</td><td style = \"text-align: right;\">0.0</td><td style = \"font-style: italic; text-align: right;\">missing</td><td style = \"text-align: right;\">59</td><td style = \"text-align: right;\">1250</td></tr></tbody></table></div>"
      ],
      "text/latex": [
       "\\begin{tabular}{r|ccccccccc}\n",
       "\t& Date & MaxTemp & MinTemp & MeanTemp & TotalRain & TotalSnow & TotalPrecip & SnowGrnd & \\\\\n",
       "\t\\hline\n",
       "\t& Date & Float64? & Float64? & Float64? & Float64 & Float64 & Float64 & Int64? & \\\\\n",
       "\t\\hline\n",
       "\t1 & 2021-10-23 & 8.2 & 1.6 & 4.9 & 0.0 & 0.0 & 0.0 & \\emph{missing} & $\\dots$ \\\\\n",
       "\t2 & 2021-10-24 & 11.9 & 2.5 & 7.2 & 0.0 & 0.0 & 0.0 & \\emph{missing} & $\\dots$ \\\\\n",
       "\t3 & 2021-10-25 & 7.8 & 3.0 & 5.4 & 1.2 & 0.0 & 1.2 & \\emph{missing} & $\\dots$ \\\\\n",
       "\t4 & 2021-10-26 & 11.3 & 7.2 & 9.3 & 7.2 & 0.0 & 7.2 & \\emph{missing} & $\\dots$ \\\\\n",
       "\t5 & 2021-10-27 & 12.6 & 6.1 & 9.4 & 0.0 & 0.0 & 0.0 & \\emph{missing} & $\\dots$ \\\\\n",
       "\\end{tabular}\n"
      ],
      "text/plain": [
       "\u001b[1m5×10 DataFrame\u001b[0m\n",
       "\u001b[1m Row \u001b[0m│\u001b[1m Date       \u001b[0m\u001b[1m MaxTemp  \u001b[0m\u001b[1m MinTemp  \u001b[0m\u001b[1m MeanTemp \u001b[0m\u001b[1m TotalRain \u001b[0m\u001b[1m TotalSnow \u001b[0m\u001b[1m TotalPr\u001b[0m ⋯\n",
       "     │\u001b[90m Date       \u001b[0m\u001b[90m Float64? \u001b[0m\u001b[90m Float64? \u001b[0m\u001b[90m Float64? \u001b[0m\u001b[90m Float64   \u001b[0m\u001b[90m Float64   \u001b[0m\u001b[90m Float64\u001b[0m ⋯\n",
       "─────┼──────────────────────────────────────────────────────────────────────────\n",
       "   1 │ 2021-10-23       8.2       1.6       4.9        0.0        0.0          ⋯\n",
       "   2 │ 2021-10-24      11.9       2.5       7.2        0.0        0.0\n",
       "   3 │ 2021-10-25       7.8       3.0       5.4        1.2        0.0\n",
       "   4 │ 2021-10-26      11.3       7.2       9.3        7.2        0.0\n",
       "   5 │ 2021-10-27      12.6       6.1       9.4        0.0        0.0          ⋯\n",
       "\u001b[36m                                                               4 columns omitted\u001b[0m"
      ]
     },
     "metadata": {},
     "output_type": "display_data"
    }
   ],
   "source": [
    "train = CSV.read(\"./data/train.csv\", DataFrame)\n",
    "y = train[:, :REV]\n",
    "\n",
    "first(train, 5)"
   ]
  },
  {
   "cell_type": "code",
   "execution_count": null,
   "metadata": {},
   "outputs": [],
   "source": []
  }
 ],
 "metadata": {
  "kernelspec": {
   "display_name": "Julia 1.9.3",
   "language": "julia",
   "name": "julia-1.9"
  },
  "language_info": {
   "file_extension": ".jl",
   "mimetype": "application/julia",
   "name": "julia",
   "version": "1.9.3"
  }
 },
 "nbformat": 4,
 "nbformat_minor": 2
}
